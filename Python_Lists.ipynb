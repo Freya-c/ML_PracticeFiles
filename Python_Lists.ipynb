{
 "cells": [
  {
   "cell_type": "markdown",
   "metadata": {},
   "source": [
    "## Python Assignments - 1\n",
    "## Lists\n",
    "\n"
   ]
  },
  {
   "cell_type": "code",
   "execution_count": 5,
   "metadata": {},
   "outputs": [
    {
     "name": "stdout",
     "output_type": "stream",
     "text": [
      "Mumbai\n",
      "['Kerala', 'Mumbai', 'Bangalore']\n",
      "['Kerala', 'Mumbai']\n"
     ]
    }
   ],
   "source": [
    "## 1. City = [‘Gurgaon’, ’Mumbai’, ’Bangalore’] i) Print the second item from the list \n",
    "## ii) Change the value from \"Gurgaon\" to \"Kerala\" iii) Remove the last element of the list.\n",
    "\n",
    "City = ['Gurgaon','Mumbai','Bangalore']\n",
    "print(City[1])\n",
    "City[0]='Kerala'\n",
    "print(City)\n",
    "City.pop(2)\n",
    "print(City)"
   ]
  },
  {
   "cell_type": "code",
   "execution_count": 8,
   "metadata": {},
   "outputs": [
    {
     "name": "stdout",
     "output_type": "stream",
     "text": [
      "Gujarat\n"
     ]
    }
   ],
   "source": [
    "## 2. Use negative indexing to print the last item in the list. Make a list by yourself.\n",
    "\n",
    "states = ['Assam','Bihar','Goa','Haryana','Gujarat']\n",
    "print(states[-1])"
   ]
  },
  {
   "cell_type": "code",
   "execution_count": 15,
   "metadata": {},
   "outputs": [
    {
     "data": {
      "text/plain": [
       "['Panaji', 'Raipur', 'Hyderabad']"
      ]
     },
     "execution_count": 15,
     "metadata": {},
     "output_type": "execute_result"
    }
   ],
   "source": [
    "## 3. Use a range of indexes to print the third, fourth, and fifth item in the list. Make a list by yourself.\n",
    "\n",
    "capitals = ['Dispur','Patna','Panaji','Raipur','Hyderabad','Shimla']\n",
    "capitals[2:5]"
   ]
  },
  {
   "cell_type": "code",
   "execution_count": 20,
   "metadata": {},
   "outputs": [
    {
     "name": "stdout",
     "output_type": "stream",
     "text": [
      "['Kerala', 'Mumbai']\n",
      "['Kerala']\n"
     ]
    }
   ],
   "source": [
    "## 4. Remove the last element from the city list\n",
    "\n",
    "print(City)\n",
    "City.pop()\n",
    "print(City)"
   ]
  },
  {
   "cell_type": "code",
   "execution_count": 23,
   "metadata": {},
   "outputs": [
    {
     "name": "stdout",
     "output_type": "stream",
     "text": [
      "['apple', 'lemon', 'guava', 'cherry', 'mango', 'watermelon', 'banana', 'orange']\n"
     ]
    }
   ],
   "source": [
    "## 5. fruits=[‘apple’,’lichi’,’guava’,’cherry’,’mango’,’watermelon’,’banana’]\n",
    "## i) Add \"orange\" at the end of the above list.\n",
    "## ii) Add \"lemon\" as the second item in the fruits list\n",
    "\n",
    "fruits = ['apple','lichi','guava','cherry','mango','watermelon','banana']\n",
    "fruits.append('orange')\n",
    "fruits[1]='lemon'\n",
    "print(fruits)"
   ]
  },
  {
   "cell_type": "code",
   "execution_count": 28,
   "metadata": {},
   "outputs": [
    {
     "name": "stdout",
     "output_type": "stream",
     "text": [
      "['apple', 'lemon', 'guava', 'mango', 'watermelon', 'banana', 'orange']\n"
     ]
    }
   ],
   "source": [
    "## 6. Remove ‘cherry’ from the fruit list given above\n",
    "\n",
    "fruits.remove('cherry')\n",
    "print(fruits)"
   ]
  },
  {
   "cell_type": "code",
   "execution_count": 32,
   "metadata": {},
   "outputs": [
    {
     "name": "stdout",
     "output_type": "stream",
     "text": [
      "Enter the list items: 3 5 6 7 8 3 2 1 9 5 0\n"
     ]
    },
    {
     "data": {
      "text/plain": [
       "[9, 8, 7, 6, 5, 5, 3, 3, 2, 1, 0]"
      ]
     },
     "execution_count": 32,
     "metadata": {},
     "output_type": "execute_result"
    }
   ],
   "source": [
    "## 7. Write the python program to let the user input a list of numbers and print the list in descending order.\n",
    "\n",
    "numbers = []\n",
    "numbers = [int(item) for item in input(\"Enter the list items: \").split()]\n",
    "sorted(numbers, reverse=True)"
   ]
  },
  {
   "cell_type": "code",
   "execution_count": 36,
   "metadata": {},
   "outputs": [
    {
     "name": "stdout",
     "output_type": "stream",
     "text": [
      "Enter the list items: 7 8 9 6 5 0 3 2 1 8\n",
      "Enter the list items: 8 9 0 6 5 4 3 2 1\n",
      "[7, 8, 9, 6, 5, 0, 3, 2, 1, 8] [8, 9, 0, 6, 5, 4, 3, 2, 1]\n",
      "[7, 8, 9, 6, 5, 0, 3, 2, 1, 8, 8, 9, 0, 6, 5, 4, 3, 2, 1]\n"
     ]
    }
   ],
   "source": [
    "## 8. Write the python program to let the user input two lists and combine both the lists.\n",
    "\n",
    "list1 = [int(item) for item in input(\"Enter the list items: \").split()]\n",
    "list2 = [int(item) for item in input(\"Enter the list items: \").split()]\n",
    "print(list1,list2)\n",
    "list3 = list1 + list2\n",
    "print(list3)"
   ]
  },
  {
   "cell_type": "code",
   "execution_count": 41,
   "metadata": {},
   "outputs": [
    {
     "name": "stdout",
     "output_type": "stream",
     "text": [
      "[11, 10, 45, 9, 23, 78]\n"
     ]
    }
   ],
   "source": [
    "## 9. List = [10, 45, 78, 11, 9, 23]. Shuffle this list.\n",
    "\n",
    "import random\n",
    "List = [10, 45, 78, 11, 9, 23]\n",
    "random.shuffle(List)\n",
    "print(List)"
   ]
  },
  {
   "cell_type": "code",
   "execution_count": 3,
   "metadata": {},
   "outputs": [
    {
     "name": "stdout",
     "output_type": "stream",
     "text": [
      "z\n",
      "['baz', 2.718]\n"
     ]
    }
   ],
   "source": [
    "## 10. x = [10, [3.141, 20, [30, 'baz', 2.718]], 'foo']\n",
    "# i) What is the expression that returns the 'z' in 'baz'?\n",
    "# ii) What expression returns the list ['baz', 2.718]?\n",
    "\n",
    "x = [10, [3.141, 20, [30, 'baz', 2.718]], 'foo']\n",
    "print(x[1][2][1][-1])\n",
    "print(x[1][2][1:])"
   ]
  },
  {
   "cell_type": "code",
   "execution_count": 4,
   "metadata": {},
   "outputs": [
    {
     "name": "stdout",
     "output_type": "stream",
     "text": [
      "20\n"
     ]
    }
   ],
   "source": [
    "## 11. Extract element 20 from the above list.\n",
    "\n",
    "print(x[1][1])"
   ]
  },
  {
   "cell_type": "code",
   "execution_count": 9,
   "metadata": {},
   "outputs": [
    {
     "name": "stdout",
     "output_type": "stream",
     "text": [
      "[1, 2, 3, 4, 5, 6, 7, 8]\n"
     ]
    }
   ],
   "source": [
    "# 12. You have a list a = [1, 2, 7, 8]. Write a Python statement using slice assignment that will fill in the missing values so that a equals [1, 2, 3, 4, 5, 6, 7, 8]\n",
    "\n",
    "a = [1, 2, 7, 8]\n",
    "a[2:2]=[3,4,5,6]\n",
    "print(a)"
   ]
  },
  {
   "cell_type": "code",
   "execution_count": null,
   "metadata": {},
   "outputs": [],
   "source": []
  }
 ],
 "metadata": {
  "kernelspec": {
   "display_name": "Python 3",
   "language": "python",
   "name": "python3"
  },
  "language_info": {
   "codemirror_mode": {
    "name": "ipython",
    "version": 3
   },
   "file_extension": ".py",
   "mimetype": "text/x-python",
   "name": "python",
   "nbconvert_exporter": "python",
   "pygments_lexer": "ipython3",
   "version": "3.8.5"
  }
 },
 "nbformat": 4,
 "nbformat_minor": 4
}
